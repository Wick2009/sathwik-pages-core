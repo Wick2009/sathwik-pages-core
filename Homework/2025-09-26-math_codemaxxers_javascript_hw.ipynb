{
 "cells": [
  {
   "cell_type": "raw",
   "id": "6290bcd2",
   "metadata": {
    "vscode": {
     "languageId": "raw"
    }
   },
   "source": [
    "---\n",
    "title: \"Mathematical Operations in Javascript and Python - Hacks\"\n",
    "description: \"Apply your skills of math, logic, and coding.\"\n",
    "layout: post\n",
    "permalink: /javascript/mathematical-expressions/codemaxxers-hw\n",
    "---"
   ]
  },
  {
   "cell_type": "markdown",
   "id": "d98b569e",
   "metadata": {},
   "source": [
    "# Basic Algebraic Math hacks\n",
    "\n",
    "## Q1 (Exponents):\n",
    "### A cube has a side length of 6 units. What is its volume?"
   ]
  },
  {
   "cell_type": "code",
   "execution_count": 5,
   "id": "235ceb13",
   "metadata": {
    "vscode": {
     "languageId": "javascript"
    }
   },
   "outputs": [
    {
     "data": {
      "text/plain": [
       "216"
      ]
     },
     "execution_count": 5,
     "metadata": {},
     "output_type": "execute_result"
    }
   ],
   "source": [
    "(6**3)"
   ]
  },
  {
   "cell_type": "markdown",
   "id": "3fb1dd4d",
   "metadata": {},
   "source": [
    "## Q2 (PEMDAS):\n",
    "### Evaluate the expression: \n",
    "\n",
    "(7+14)*5/12 + 2"
   ]
  },
  {
   "cell_type": "code",
   "execution_count": 3,
   "id": "49d712a3",
   "metadata": {
    "vscode": {
     "languageId": "javascript"
    }
   },
   "outputs": [
    {
     "data": {
      "text/plain": [
       "54.5"
      ]
     },
     "execution_count": 3,
     "metadata": {},
     "output_type": "execute_result"
    }
   ],
   "source": [
    "(7+14)*5/2+2"
   ]
  },
  {
   "cell_type": "markdown",
   "id": "fcaa4762",
   "metadata": {},
   "source": [
    "## Q3 (Algorithm): \n",
    "\n",
    "Write JavaScript  code where you define variables and run commands that find the values of operations you apply onto them"
   ]
  },
  {
   "cell_type": "code",
   "execution_count": 4,
   "id": "0a2081a9",
   "metadata": {
    "vscode": {
     "languageId": "javascript"
    }
   },
   "outputs": [
    {
     "name": "stdout",
     "output_type": "stream",
     "text": [
      "Sum: 20\n",
      "Difference: 4\n",
      "Product: 96\n",
      "Quotient: 1.5\n",
      "Remainder: 4\n",
      "Exponentiation: 144\n"
     ]
    }
   ],
   "source": [
    "num1 = 12  \n",
    "num2 = 8\n",
    "sum = num1 + num2\n",
    "difference = num1 - num2\n",
    "product = num1 * num2\n",
    "quotient = num1 / num2\n",
    "remainder = num1 % num2\n",
    "exponentiation = num1 ** 2\n",
    "print(\"Sum:\", sum)\n",
    "print(\"Difference:\", difference)\n",
    "print(\"Product:\", product)\n",
    "print(\"Quotient:\", quotient)\n",
    "print(\"Remainder:\", remainder)\n",
    "print(\"Exponentiation:\", exponentiation)"
   ]
  },
  {
   "cell_type": "markdown",
   "id": "7927eeac",
   "metadata": {},
   "source": [
    "<img src=\"/images/3_3diagram.png\" alt=\"Diagram showing mathematical operations\" style=\"max-width:300px; margin:10px;\">\n"
   ]
  }
 ],
 "metadata": {
  "kernelspec": {
   "display_name": "venv (3.10.1)",
   "language": "python",
   "name": "python3"
  },
  "language_info": {
   "codemirror_mode": {
    "name": "ipython",
    "version": 3
   },
   "file_extension": ".py",
   "mimetype": "text/x-python",
   "name": "python",
   "nbconvert_exporter": "python",
   "pygments_lexer": "ipython3",
   "version": "3.10.1"
  }
 },
 "nbformat": 4,
 "nbformat_minor": 5
}
